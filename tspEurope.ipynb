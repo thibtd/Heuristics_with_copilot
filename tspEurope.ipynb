{
 "cells": [
  {
   "cell_type": "code",
   "execution_count": 2,
   "metadata": {},
   "outputs": [],
   "source": [
    "from get_long_lat_cities import get_long_lat_dataFrame\n",
    "import pandas as pd \n",
    "import numpy as np \n",
    "import matplotlib.pyplot as plt\n",
    "import seaborn as sns\n",
    "from geopy import distance\n",
    "import math\n",
    "import plotly.express as px\n",
    "import plotly.graph_objects as go\n"
   ]
  },
  {
   "cell_type": "code",
   "execution_count": 4,
   "metadata": {},
   "outputs": [
    {
     "ename": "GeocoderTimedOut",
     "evalue": "Service timed out",
     "output_type": "error",
     "traceback": [
      "\u001b[0;31m---------------------------------------------------------------------------\u001b[0m",
      "\u001b[0;31mTimeoutError\u001b[0m                              Traceback (most recent call last)",
      "File \u001b[0;32m~/Desktop/MLOps/DevOps DataOps MLOps/Optimisation,heuristics,simulations/Heuristics_with_copilot/.venv/lib/python3.12/site-packages/geopy/adapters.py:298\u001b[0m, in \u001b[0;36mURLLibAdapter.get_text\u001b[0;34m(self, url, timeout, headers)\u001b[0m\n\u001b[1;32m    297\u001b[0m \u001b[38;5;28;01mtry\u001b[39;00m:\n\u001b[0;32m--> 298\u001b[0m     page \u001b[38;5;241m=\u001b[39m \u001b[38;5;28;43mself\u001b[39;49m\u001b[38;5;241;43m.\u001b[39;49m\u001b[43murlopen\u001b[49m\u001b[43m(\u001b[49m\u001b[43mreq\u001b[49m\u001b[43m,\u001b[49m\u001b[43m \u001b[49m\u001b[43mtimeout\u001b[49m\u001b[38;5;241;43m=\u001b[39;49m\u001b[43mtimeout\u001b[49m\u001b[43m)\u001b[49m\n\u001b[1;32m    299\u001b[0m \u001b[38;5;28;01mexcept\u001b[39;00m \u001b[38;5;167;01mException\u001b[39;00m \u001b[38;5;28;01mas\u001b[39;00m error:\n",
      "File \u001b[0;32m/opt/anaconda3/lib/python3.12/urllib/request.py:515\u001b[0m, in \u001b[0;36mOpenerDirector.open\u001b[0;34m(self, fullurl, data, timeout)\u001b[0m\n\u001b[1;32m    514\u001b[0m sys\u001b[38;5;241m.\u001b[39maudit(\u001b[38;5;124m'\u001b[39m\u001b[38;5;124murllib.Request\u001b[39m\u001b[38;5;124m'\u001b[39m, req\u001b[38;5;241m.\u001b[39mfull_url, req\u001b[38;5;241m.\u001b[39mdata, req\u001b[38;5;241m.\u001b[39mheaders, req\u001b[38;5;241m.\u001b[39mget_method())\n\u001b[0;32m--> 515\u001b[0m response \u001b[38;5;241m=\u001b[39m \u001b[38;5;28;43mself\u001b[39;49m\u001b[38;5;241;43m.\u001b[39;49m\u001b[43m_open\u001b[49m\u001b[43m(\u001b[49m\u001b[43mreq\u001b[49m\u001b[43m,\u001b[49m\u001b[43m \u001b[49m\u001b[43mdata\u001b[49m\u001b[43m)\u001b[49m\n\u001b[1;32m    517\u001b[0m \u001b[38;5;66;03m# post-process response\u001b[39;00m\n",
      "File \u001b[0;32m/opt/anaconda3/lib/python3.12/urllib/request.py:532\u001b[0m, in \u001b[0;36mOpenerDirector._open\u001b[0;34m(self, req, data)\u001b[0m\n\u001b[1;32m    531\u001b[0m protocol \u001b[38;5;241m=\u001b[39m req\u001b[38;5;241m.\u001b[39mtype\n\u001b[0;32m--> 532\u001b[0m result \u001b[38;5;241m=\u001b[39m \u001b[38;5;28;43mself\u001b[39;49m\u001b[38;5;241;43m.\u001b[39;49m\u001b[43m_call_chain\u001b[49m\u001b[43m(\u001b[49m\u001b[38;5;28;43mself\u001b[39;49m\u001b[38;5;241;43m.\u001b[39;49m\u001b[43mhandle_open\u001b[49m\u001b[43m,\u001b[49m\u001b[43m \u001b[49m\u001b[43mprotocol\u001b[49m\u001b[43m,\u001b[49m\u001b[43m \u001b[49m\u001b[43mprotocol\u001b[49m\u001b[43m \u001b[49m\u001b[38;5;241;43m+\u001b[39;49m\n\u001b[1;32m    533\u001b[0m \u001b[43m                          \u001b[49m\u001b[38;5;124;43m'\u001b[39;49m\u001b[38;5;124;43m_open\u001b[39;49m\u001b[38;5;124;43m'\u001b[39;49m\u001b[43m,\u001b[49m\u001b[43m \u001b[49m\u001b[43mreq\u001b[49m\u001b[43m)\u001b[49m\n\u001b[1;32m    534\u001b[0m \u001b[38;5;28;01mif\u001b[39;00m result:\n",
      "File \u001b[0;32m/opt/anaconda3/lib/python3.12/urllib/request.py:492\u001b[0m, in \u001b[0;36mOpenerDirector._call_chain\u001b[0;34m(self, chain, kind, meth_name, *args)\u001b[0m\n\u001b[1;32m    491\u001b[0m func \u001b[38;5;241m=\u001b[39m \u001b[38;5;28mgetattr\u001b[39m(handler, meth_name)\n\u001b[0;32m--> 492\u001b[0m result \u001b[38;5;241m=\u001b[39m \u001b[43mfunc\u001b[49m\u001b[43m(\u001b[49m\u001b[38;5;241;43m*\u001b[39;49m\u001b[43margs\u001b[49m\u001b[43m)\u001b[49m\n\u001b[1;32m    493\u001b[0m \u001b[38;5;28;01mif\u001b[39;00m result \u001b[38;5;129;01mis\u001b[39;00m \u001b[38;5;129;01mnot\u001b[39;00m \u001b[38;5;28;01mNone\u001b[39;00m:\n",
      "File \u001b[0;32m/opt/anaconda3/lib/python3.12/urllib/request.py:1392\u001b[0m, in \u001b[0;36mHTTPSHandler.https_open\u001b[0;34m(self, req)\u001b[0m\n\u001b[1;32m   1391\u001b[0m \u001b[38;5;28;01mdef\u001b[39;00m \u001b[38;5;21mhttps_open\u001b[39m(\u001b[38;5;28mself\u001b[39m, req):\n\u001b[0;32m-> 1392\u001b[0m     \u001b[38;5;28;01mreturn\u001b[39;00m \u001b[38;5;28;43mself\u001b[39;49m\u001b[38;5;241;43m.\u001b[39;49m\u001b[43mdo_open\u001b[49m\u001b[43m(\u001b[49m\u001b[43mhttp\u001b[49m\u001b[38;5;241;43m.\u001b[39;49m\u001b[43mclient\u001b[49m\u001b[38;5;241;43m.\u001b[39;49m\u001b[43mHTTPSConnection\u001b[49m\u001b[43m,\u001b[49m\u001b[43m \u001b[49m\u001b[43mreq\u001b[49m\u001b[43m,\u001b[49m\n\u001b[1;32m   1393\u001b[0m \u001b[43m                        \u001b[49m\u001b[43mcontext\u001b[49m\u001b[38;5;241;43m=\u001b[39;49m\u001b[38;5;28;43mself\u001b[39;49m\u001b[38;5;241;43m.\u001b[39;49m\u001b[43m_context\u001b[49m\u001b[43m)\u001b[49m\n",
      "File \u001b[0;32m/opt/anaconda3/lib/python3.12/urllib/request.py:1348\u001b[0m, in \u001b[0;36mAbstractHTTPHandler.do_open\u001b[0;34m(self, http_class, req, **http_conn_args)\u001b[0m\n\u001b[1;32m   1347\u001b[0m         \u001b[38;5;28;01mraise\u001b[39;00m URLError(err)\n\u001b[0;32m-> 1348\u001b[0m     r \u001b[38;5;241m=\u001b[39m \u001b[43mh\u001b[49m\u001b[38;5;241;43m.\u001b[39;49m\u001b[43mgetresponse\u001b[49m\u001b[43m(\u001b[49m\u001b[43m)\u001b[49m\n\u001b[1;32m   1349\u001b[0m \u001b[38;5;28;01mexcept\u001b[39;00m:\n",
      "File \u001b[0;32m/opt/anaconda3/lib/python3.12/http/client.py:1428\u001b[0m, in \u001b[0;36mHTTPConnection.getresponse\u001b[0;34m(self)\u001b[0m\n\u001b[1;32m   1427\u001b[0m \u001b[38;5;28;01mtry\u001b[39;00m:\n\u001b[0;32m-> 1428\u001b[0m     \u001b[43mresponse\u001b[49m\u001b[38;5;241;43m.\u001b[39;49m\u001b[43mbegin\u001b[49m\u001b[43m(\u001b[49m\u001b[43m)\u001b[49m\n\u001b[1;32m   1429\u001b[0m \u001b[38;5;28;01mexcept\u001b[39;00m \u001b[38;5;167;01mConnectionError\u001b[39;00m:\n",
      "File \u001b[0;32m/opt/anaconda3/lib/python3.12/http/client.py:331\u001b[0m, in \u001b[0;36mHTTPResponse.begin\u001b[0;34m(self)\u001b[0m\n\u001b[1;32m    330\u001b[0m \u001b[38;5;28;01mwhile\u001b[39;00m \u001b[38;5;28;01mTrue\u001b[39;00m:\n\u001b[0;32m--> 331\u001b[0m     version, status, reason \u001b[38;5;241m=\u001b[39m \u001b[38;5;28;43mself\u001b[39;49m\u001b[38;5;241;43m.\u001b[39;49m\u001b[43m_read_status\u001b[49m\u001b[43m(\u001b[49m\u001b[43m)\u001b[49m\n\u001b[1;32m    332\u001b[0m     \u001b[38;5;28;01mif\u001b[39;00m status \u001b[38;5;241m!=\u001b[39m CONTINUE:\n",
      "File \u001b[0;32m/opt/anaconda3/lib/python3.12/http/client.py:292\u001b[0m, in \u001b[0;36mHTTPResponse._read_status\u001b[0;34m(self)\u001b[0m\n\u001b[1;32m    291\u001b[0m \u001b[38;5;28;01mdef\u001b[39;00m \u001b[38;5;21m_read_status\u001b[39m(\u001b[38;5;28mself\u001b[39m):\n\u001b[0;32m--> 292\u001b[0m     line \u001b[38;5;241m=\u001b[39m \u001b[38;5;28mstr\u001b[39m(\u001b[38;5;28;43mself\u001b[39;49m\u001b[38;5;241;43m.\u001b[39;49m\u001b[43mfp\u001b[49m\u001b[38;5;241;43m.\u001b[39;49m\u001b[43mreadline\u001b[49m\u001b[43m(\u001b[49m\u001b[43m_MAXLINE\u001b[49m\u001b[43m \u001b[49m\u001b[38;5;241;43m+\u001b[39;49m\u001b[43m \u001b[49m\u001b[38;5;241;43m1\u001b[39;49m\u001b[43m)\u001b[49m, \u001b[38;5;124m\"\u001b[39m\u001b[38;5;124miso-8859-1\u001b[39m\u001b[38;5;124m\"\u001b[39m)\n\u001b[1;32m    293\u001b[0m     \u001b[38;5;28;01mif\u001b[39;00m \u001b[38;5;28mlen\u001b[39m(line) \u001b[38;5;241m>\u001b[39m _MAXLINE:\n",
      "File \u001b[0;32m/opt/anaconda3/lib/python3.12/socket.py:708\u001b[0m, in \u001b[0;36mSocketIO.readinto\u001b[0;34m(self, b)\u001b[0m\n\u001b[1;32m    707\u001b[0m \u001b[38;5;28;01mtry\u001b[39;00m:\n\u001b[0;32m--> 708\u001b[0m     \u001b[38;5;28;01mreturn\u001b[39;00m \u001b[38;5;28;43mself\u001b[39;49m\u001b[38;5;241;43m.\u001b[39;49m\u001b[43m_sock\u001b[49m\u001b[38;5;241;43m.\u001b[39;49m\u001b[43mrecv_into\u001b[49m\u001b[43m(\u001b[49m\u001b[43mb\u001b[49m\u001b[43m)\u001b[49m\n\u001b[1;32m    709\u001b[0m \u001b[38;5;28;01mexcept\u001b[39;00m timeout:\n",
      "File \u001b[0;32m/opt/anaconda3/lib/python3.12/ssl.py:1252\u001b[0m, in \u001b[0;36mSSLSocket.recv_into\u001b[0;34m(self, buffer, nbytes, flags)\u001b[0m\n\u001b[1;32m   1249\u001b[0m         \u001b[38;5;28;01mraise\u001b[39;00m \u001b[38;5;167;01mValueError\u001b[39;00m(\n\u001b[1;32m   1250\u001b[0m           \u001b[38;5;124m\"\u001b[39m\u001b[38;5;124mnon-zero flags not allowed in calls to recv_into() on \u001b[39m\u001b[38;5;132;01m%s\u001b[39;00m\u001b[38;5;124m\"\u001b[39m \u001b[38;5;241m%\u001b[39m\n\u001b[1;32m   1251\u001b[0m           \u001b[38;5;28mself\u001b[39m\u001b[38;5;241m.\u001b[39m\u001b[38;5;18m__class__\u001b[39m)\n\u001b[0;32m-> 1252\u001b[0m     \u001b[38;5;28;01mreturn\u001b[39;00m \u001b[38;5;28;43mself\u001b[39;49m\u001b[38;5;241;43m.\u001b[39;49m\u001b[43mread\u001b[49m\u001b[43m(\u001b[49m\u001b[43mnbytes\u001b[49m\u001b[43m,\u001b[49m\u001b[43m \u001b[49m\u001b[43mbuffer\u001b[49m\u001b[43m)\u001b[49m\n\u001b[1;32m   1253\u001b[0m \u001b[38;5;28;01melse\u001b[39;00m:\n",
      "File \u001b[0;32m/opt/anaconda3/lib/python3.12/ssl.py:1104\u001b[0m, in \u001b[0;36mSSLSocket.read\u001b[0;34m(self, len, buffer)\u001b[0m\n\u001b[1;32m   1103\u001b[0m \u001b[38;5;28;01mif\u001b[39;00m buffer \u001b[38;5;129;01mis\u001b[39;00m \u001b[38;5;129;01mnot\u001b[39;00m \u001b[38;5;28;01mNone\u001b[39;00m:\n\u001b[0;32m-> 1104\u001b[0m     \u001b[38;5;28;01mreturn\u001b[39;00m \u001b[38;5;28;43mself\u001b[39;49m\u001b[38;5;241;43m.\u001b[39;49m\u001b[43m_sslobj\u001b[49m\u001b[38;5;241;43m.\u001b[39;49m\u001b[43mread\u001b[49m\u001b[43m(\u001b[49m\u001b[38;5;28;43mlen\u001b[39;49m\u001b[43m,\u001b[49m\u001b[43m \u001b[49m\u001b[43mbuffer\u001b[49m\u001b[43m)\u001b[49m\n\u001b[1;32m   1105\u001b[0m \u001b[38;5;28;01melse\u001b[39;00m:\n",
      "\u001b[0;31mTimeoutError\u001b[0m: The read operation timed out",
      "\nDuring handling of the above exception, another exception occurred:\n",
      "\u001b[0;31mGeocoderTimedOut\u001b[0m                          Traceback (most recent call last)",
      "Cell \u001b[0;32mIn[4], line 3\u001b[0m\n\u001b[1;32m      1\u001b[0m \u001b[38;5;66;03m#if shitty internet do not use this \u001b[39;00m\n\u001b[1;32m      2\u001b[0m \u001b[38;5;66;03m# retrieve the data from geopy \u001b[39;00m\n\u001b[0;32m----> 3\u001b[0m cities \u001b[38;5;241m=\u001b[39m \u001b[43mget_long_lat_dataFrame\u001b[49m\u001b[43m(\u001b[49m\u001b[43m)\u001b[49m\n",
      "File \u001b[0;32m~/Desktop/MLOps/DevOps DataOps MLOps/Optimisation,heuristics,simulations/Heuristics_with_copilot/get_long_lat_cities.py:20\u001b[0m, in \u001b[0;36mget_long_lat_dataFrame\u001b[0;34m(cities)\u001b[0m\n\u001b[1;32m     18\u001b[0m \u001b[38;5;66;03m#loop through the list of cities and get the latitude and longitude\u001b[39;00m\n\u001b[1;32m     19\u001b[0m \u001b[38;5;28;01mfor\u001b[39;00m city \u001b[38;5;129;01min\u001b[39;00m cities:\n\u001b[0;32m---> 20\u001b[0m     location \u001b[38;5;241m=\u001b[39m \u001b[43mgeolocator\u001b[49m\u001b[38;5;241;43m.\u001b[39;49m\u001b[43mgeocode\u001b[49m\u001b[43m(\u001b[49m\u001b[43mcity\u001b[49m\u001b[43m)\u001b[49m\n\u001b[1;32m     21\u001b[0m     \u001b[38;5;66;03m#print(city, location.latitude, location.longitude)\u001b[39;00m\n\u001b[1;32m     22\u001b[0m     new_city \u001b[38;5;241m=\u001b[39m {\u001b[38;5;124m\"\u001b[39m\u001b[38;5;124mCity\u001b[39m\u001b[38;5;124m\"\u001b[39m: city, \u001b[38;5;124m\"\u001b[39m\u001b[38;5;124mlatitude\u001b[39m\u001b[38;5;124m\"\u001b[39m:location\u001b[38;5;241m.\u001b[39mlatitude, \u001b[38;5;124m\"\u001b[39m\u001b[38;5;124mlongitude\u001b[39m\u001b[38;5;124m\"\u001b[39m: location\u001b[38;5;241m.\u001b[39mlongitude}\n",
      "File \u001b[0;32m~/Desktop/MLOps/DevOps DataOps MLOps/Optimisation,heuristics,simulations/Heuristics_with_copilot/.venv/lib/python3.12/site-packages/geopy/geocoders/nominatim.py:297\u001b[0m, in \u001b[0;36mNominatim.geocode\u001b[0;34m(self, query, exactly_one, timeout, limit, addressdetails, language, geometry, extratags, country_codes, viewbox, bounded, featuretype, namedetails)\u001b[0m\n\u001b[1;32m    295\u001b[0m logger\u001b[38;5;241m.\u001b[39mdebug(\u001b[38;5;124m\"\u001b[39m\u001b[38;5;132;01m%s\u001b[39;00m\u001b[38;5;124m.geocode: \u001b[39m\u001b[38;5;132;01m%s\u001b[39;00m\u001b[38;5;124m\"\u001b[39m, \u001b[38;5;28mself\u001b[39m\u001b[38;5;241m.\u001b[39m\u001b[38;5;18m__class__\u001b[39m\u001b[38;5;241m.\u001b[39m\u001b[38;5;18m__name__\u001b[39m, url)\n\u001b[1;32m    296\u001b[0m callback \u001b[38;5;241m=\u001b[39m partial(\u001b[38;5;28mself\u001b[39m\u001b[38;5;241m.\u001b[39m_parse_json, exactly_one\u001b[38;5;241m=\u001b[39mexactly_one)\n\u001b[0;32m--> 297\u001b[0m \u001b[38;5;28;01mreturn\u001b[39;00m \u001b[38;5;28;43mself\u001b[39;49m\u001b[38;5;241;43m.\u001b[39;49m\u001b[43m_call_geocoder\u001b[49m\u001b[43m(\u001b[49m\u001b[43murl\u001b[49m\u001b[43m,\u001b[49m\u001b[43m \u001b[49m\u001b[43mcallback\u001b[49m\u001b[43m,\u001b[49m\u001b[43m \u001b[49m\u001b[43mtimeout\u001b[49m\u001b[38;5;241;43m=\u001b[39;49m\u001b[43mtimeout\u001b[49m\u001b[43m)\u001b[49m\n",
      "File \u001b[0;32m~/Desktop/MLOps/DevOps DataOps MLOps/Optimisation,heuristics,simulations/Heuristics_with_copilot/.venv/lib/python3.12/site-packages/geopy/geocoders/base.py:368\u001b[0m, in \u001b[0;36mGeocoder._call_geocoder\u001b[0;34m(self, url, callback, timeout, is_json, headers)\u001b[0m\n\u001b[1;32m    366\u001b[0m \u001b[38;5;28;01mtry\u001b[39;00m:\n\u001b[1;32m    367\u001b[0m     \u001b[38;5;28;01mif\u001b[39;00m is_json:\n\u001b[0;32m--> 368\u001b[0m         result \u001b[38;5;241m=\u001b[39m \u001b[38;5;28;43mself\u001b[39;49m\u001b[38;5;241;43m.\u001b[39;49m\u001b[43madapter\u001b[49m\u001b[38;5;241;43m.\u001b[39;49m\u001b[43mget_json\u001b[49m\u001b[43m(\u001b[49m\u001b[43murl\u001b[49m\u001b[43m,\u001b[49m\u001b[43m \u001b[49m\u001b[43mtimeout\u001b[49m\u001b[38;5;241;43m=\u001b[39;49m\u001b[43mtimeout\u001b[49m\u001b[43m,\u001b[49m\u001b[43m \u001b[49m\u001b[43mheaders\u001b[49m\u001b[38;5;241;43m=\u001b[39;49m\u001b[43mreq_headers\u001b[49m\u001b[43m)\u001b[49m\n\u001b[1;32m    369\u001b[0m     \u001b[38;5;28;01melse\u001b[39;00m:\n\u001b[1;32m    370\u001b[0m         result \u001b[38;5;241m=\u001b[39m \u001b[38;5;28mself\u001b[39m\u001b[38;5;241m.\u001b[39madapter\u001b[38;5;241m.\u001b[39mget_text(url, timeout\u001b[38;5;241m=\u001b[39mtimeout, headers\u001b[38;5;241m=\u001b[39mreq_headers)\n",
      "File \u001b[0;32m~/Desktop/MLOps/DevOps DataOps MLOps/Optimisation,heuristics,simulations/Heuristics_with_copilot/.venv/lib/python3.12/site-packages/geopy/adapters.py:287\u001b[0m, in \u001b[0;36mURLLibAdapter.get_json\u001b[0;34m(self, url, timeout, headers)\u001b[0m\n\u001b[1;32m    286\u001b[0m \u001b[38;5;28;01mdef\u001b[39;00m \u001b[38;5;21mget_json\u001b[39m(\u001b[38;5;28mself\u001b[39m, url, \u001b[38;5;241m*\u001b[39m, timeout, headers):\n\u001b[0;32m--> 287\u001b[0m     text \u001b[38;5;241m=\u001b[39m \u001b[38;5;28;43mself\u001b[39;49m\u001b[38;5;241;43m.\u001b[39;49m\u001b[43mget_text\u001b[49m\u001b[43m(\u001b[49m\u001b[43murl\u001b[49m\u001b[43m,\u001b[49m\u001b[43m \u001b[49m\u001b[43mtimeout\u001b[49m\u001b[38;5;241;43m=\u001b[39;49m\u001b[43mtimeout\u001b[49m\u001b[43m,\u001b[49m\u001b[43m \u001b[49m\u001b[43mheaders\u001b[49m\u001b[38;5;241;43m=\u001b[39;49m\u001b[43mheaders\u001b[49m\u001b[43m)\u001b[49m\n\u001b[1;32m    288\u001b[0m     \u001b[38;5;28;01mtry\u001b[39;00m:\n\u001b[1;32m    289\u001b[0m         \u001b[38;5;28;01mreturn\u001b[39;00m json\u001b[38;5;241m.\u001b[39mloads(text)\n",
      "File \u001b[0;32m~/Desktop/MLOps/DevOps DataOps MLOps/Optimisation,heuristics,simulations/Heuristics_with_copilot/.venv/lib/python3.12/site-packages/geopy/adapters.py:320\u001b[0m, in \u001b[0;36mURLLibAdapter.get_text\u001b[0;34m(self, url, timeout, headers)\u001b[0m\n\u001b[1;32m    318\u001b[0m         \u001b[38;5;28;01mraise\u001b[39;00m GeocoderUnavailable(\u001b[38;5;124m\"\u001b[39m\u001b[38;5;124mService not available\u001b[39m\u001b[38;5;124m\"\u001b[39m)\n\u001b[1;32m    319\u001b[0m \u001b[38;5;28;01melif\u001b[39;00m \u001b[38;5;28misinstance\u001b[39m(error, SocketTimeout):\n\u001b[0;32m--> 320\u001b[0m     \u001b[38;5;28;01mraise\u001b[39;00m GeocoderTimedOut(\u001b[38;5;124m\"\u001b[39m\u001b[38;5;124mService timed out\u001b[39m\u001b[38;5;124m\"\u001b[39m)\n\u001b[1;32m    321\u001b[0m \u001b[38;5;28;01melif\u001b[39;00m \u001b[38;5;28misinstance\u001b[39m(error, SSLError):\n\u001b[1;32m    322\u001b[0m     \u001b[38;5;28;01mif\u001b[39;00m \u001b[38;5;124m\"\u001b[39m\u001b[38;5;124mtimed out\u001b[39m\u001b[38;5;124m\"\u001b[39m \u001b[38;5;129;01min\u001b[39;00m message:\n",
      "\u001b[0;31mGeocoderTimedOut\u001b[0m: Service timed out"
     ]
    }
   ],
   "source": [
    "#if shitty internet do not use this \n",
    "# retrieve the data from geopy \n",
    "cities = get_long_lat_dataFrame()"
   ]
  },
  {
   "cell_type": "code",
   "execution_count": 6,
   "metadata": {},
   "outputs": [
    {
     "ename": "NameError",
     "evalue": "name 'cities' is not defined",
     "output_type": "error",
     "traceback": [
      "\u001b[0;31m---------------------------------------------------------------------------\u001b[0m",
      "\u001b[0;31mNameError\u001b[0m                                 Traceback (most recent call last)",
      "Cell \u001b[0;32mIn[6], line 2\u001b[0m\n\u001b[1;32m      1\u001b[0m \u001b[38;5;66;03m#save data to csv \u001b[39;00m\n\u001b[0;32m----> 2\u001b[0m \u001b[43mcities\u001b[49m\u001b[38;5;241m.\u001b[39mto_csv(\u001b[38;5;124m'\u001b[39m\u001b[38;5;124mcities.csv\u001b[39m\u001b[38;5;124m'\u001b[39m, index\u001b[38;5;241m=\u001b[39m\u001b[38;5;28;01mFalse\u001b[39;00m)\n",
      "\u001b[0;31mNameError\u001b[0m: name 'cities' is not defined"
     ]
    }
   ],
   "source": [
    "#save data to csv \n",
    "cities.to_csv('cities.csv', index=False)"
   ]
  },
  {
   "cell_type": "code",
   "execution_count": 7,
   "metadata": {},
   "outputs": [],
   "source": [
    "# read the data from csv \n",
    "cities = pd.read_csv('cities.csv')"
   ]
  },
  {
   "cell_type": "code",
   "execution_count": 8,
   "metadata": {},
   "outputs": [
    {
     "data": {
      "text/html": [
       "<div>\n",
       "<style scoped>\n",
       "    .dataframe tbody tr th:only-of-type {\n",
       "        vertical-align: middle;\n",
       "    }\n",
       "\n",
       "    .dataframe tbody tr th {\n",
       "        vertical-align: top;\n",
       "    }\n",
       "\n",
       "    .dataframe thead th {\n",
       "        text-align: right;\n",
       "    }\n",
       "</style>\n",
       "<table border=\"1\" class=\"dataframe\">\n",
       "  <thead>\n",
       "    <tr style=\"text-align: right;\">\n",
       "      <th></th>\n",
       "      <th>City</th>\n",
       "      <th>latitude</th>\n",
       "      <th>longitude</th>\n",
       "    </tr>\n",
       "  </thead>\n",
       "  <tbody>\n",
       "    <tr>\n",
       "      <th>0</th>\n",
       "      <td>Brussels</td>\n",
       "      <td>50.846557</td>\n",
       "      <td>4.351697</td>\n",
       "    </tr>\n",
       "    <tr>\n",
       "      <th>1</th>\n",
       "      <td>Paris</td>\n",
       "      <td>48.853495</td>\n",
       "      <td>2.348391</td>\n",
       "    </tr>\n",
       "    <tr>\n",
       "      <th>2</th>\n",
       "      <td>Madrid</td>\n",
       "      <td>40.416705</td>\n",
       "      <td>-3.703582</td>\n",
       "    </tr>\n",
       "    <tr>\n",
       "      <th>3</th>\n",
       "      <td>Frankfurt</td>\n",
       "      <td>50.110644</td>\n",
       "      <td>8.682092</td>\n",
       "    </tr>\n",
       "    <tr>\n",
       "      <th>4</th>\n",
       "      <td>Poznań</td>\n",
       "      <td>52.400663</td>\n",
       "      <td>16.919733</td>\n",
       "    </tr>\n",
       "  </tbody>\n",
       "</table>\n",
       "</div>"
      ],
      "text/plain": [
       "        City   latitude  longitude\n",
       "0   Brussels  50.846557   4.351697\n",
       "1      Paris  48.853495   2.348391\n",
       "2     Madrid  40.416705  -3.703582\n",
       "3  Frankfurt  50.110644   8.682092\n",
       "4     Poznań  52.400663  16.919733"
      ]
     },
     "execution_count": 8,
     "metadata": {},
     "output_type": "execute_result"
    }
   ],
   "source": [
    "cities.head()"
   ]
  },
  {
   "cell_type": "code",
   "execution_count": 9,
   "metadata": {},
   "outputs": [],
   "source": [
    "distances = pd.DataFrame(np.zeros((len(cities), len(cities))), columns=cities['City'], index=cities['City'])"
   ]
  },
  {
   "cell_type": "code",
   "execution_count": 10,
   "metadata": {},
   "outputs": [],
   "source": [
    "for i in range(len(cities)):\n",
    "    for j in range(len(cities)):\n",
    "        if i != j:\n",
    "            distances.iloc[i, j] = distance.distance((cities['latitude'][i], cities['longitude'][i]), (cities['latitude'][j], cities['longitude'][j])).km\n",
    "        elif i == j:\n",
    "            distances.iloc[i, j] = np.inf "
   ]
  },
  {
   "cell_type": "code",
   "execution_count": 11,
   "metadata": {},
   "outputs": [
    {
     "data": {
      "text/html": [
       "<div>\n",
       "<style scoped>\n",
       "    .dataframe tbody tr th:only-of-type {\n",
       "        vertical-align: middle;\n",
       "    }\n",
       "\n",
       "    .dataframe tbody tr th {\n",
       "        vertical-align: top;\n",
       "    }\n",
       "\n",
       "    .dataframe thead th {\n",
       "        text-align: right;\n",
       "    }\n",
       "</style>\n",
       "<table border=\"1\" class=\"dataframe\">\n",
       "  <thead>\n",
       "    <tr style=\"text-align: right;\">\n",
       "      <th>City</th>\n",
       "      <th>Brussels</th>\n",
       "      <th>Paris</th>\n",
       "      <th>Madrid</th>\n",
       "      <th>Frankfurt</th>\n",
       "      <th>Poznań</th>\n",
       "      <th>Copenhagen</th>\n",
       "      <th>Kraków</th>\n",
       "      <th>Berlin</th>\n",
       "      <th>Vienna</th>\n",
       "      <th>Rome</th>\n",
       "      <th>Amsterdam</th>\n",
       "      <th>Lisbon</th>\n",
       "      <th>Stockholm</th>\n",
       "      <th>Oslo</th>\n",
       "      <th>Helsinki</th>\n",
       "      <th>Dublin</th>\n",
       "      <th>Warsaw</th>\n",
       "      <th>Budapest</th>\n",
       "      <th>Prague</th>\n",
       "    </tr>\n",
       "    <tr>\n",
       "      <th>City</th>\n",
       "      <th></th>\n",
       "      <th></th>\n",
       "      <th></th>\n",
       "      <th></th>\n",
       "      <th></th>\n",
       "      <th></th>\n",
       "      <th></th>\n",
       "      <th></th>\n",
       "      <th></th>\n",
       "      <th></th>\n",
       "      <th></th>\n",
       "      <th></th>\n",
       "      <th></th>\n",
       "      <th></th>\n",
       "      <th></th>\n",
       "      <th></th>\n",
       "      <th></th>\n",
       "      <th></th>\n",
       "      <th></th>\n",
       "    </tr>\n",
       "  </thead>\n",
       "  <tbody>\n",
       "    <tr>\n",
       "      <th>Brussels</th>\n",
       "      <td>inf</td>\n",
       "      <td>264.362788</td>\n",
       "      <td>1316.608740</td>\n",
       "      <td>318.038836</td>\n",
       "      <td>886.172161</td>\n",
       "      <td>767.710459</td>\n",
       "      <td>1112.738318</td>\n",
       "      <td>652.100677</td>\n",
       "      <td>917.142666</td>\n",
       "      <td>1173.946223</td>\n",
       "      <td>173.921384</td>\n",
       "      <td>1714.630061</td>\n",
       "      <td>1282.930923</td>\n",
       "      <td>1086.369075</td>\n",
       "      <td>1652.190825</td>\n",
       "      <td>777.808042</td>\n",
       "      <td>1163.134822</td>\n",
       "      <td>1139.675614</td>\n",
       "      <td>719.324065</td>\n",
       "    </tr>\n",
       "    <tr>\n",
       "      <th>Paris</th>\n",
       "      <td>264.362788</td>\n",
       "      <td>inf</td>\n",
       "      <td>1052.529076</td>\n",
       "      <td>479.609749</td>\n",
       "      <td>1101.584377</td>\n",
       "      <td>1029.917902</td>\n",
       "      <td>1283.544442</td>\n",
       "      <td>879.341073</td>\n",
       "      <td>1036.774699</td>\n",
       "      <td>1106.617205</td>\n",
       "      <td>430.876419</td>\n",
       "      <td>1454.565133</td>\n",
       "      <td>1546.862461</td>\n",
       "      <td>1343.897117</td>\n",
       "      <td>1913.465069</td>\n",
       "      <td>782.512447</td>\n",
       "      <td>1370.596166</td>\n",
       "      <td>1256.138365</td>\n",
       "      <td>884.728663</td>\n",
       "    </tr>\n",
       "    <tr>\n",
       "      <th>Madrid</th>\n",
       "      <td>1316.608740</td>\n",
       "      <td>1052.529076</td>\n",
       "      <td>inf</td>\n",
       "      <td>1447.275173</td>\n",
       "      <td>2057.966030</td>\n",
       "      <td>2075.553933</td>\n",
       "      <td>2133.386065</td>\n",
       "      <td>1870.469166</td>\n",
       "      <td>1813.022483</td>\n",
       "      <td>1366.446672</td>\n",
       "      <td>1481.953707</td>\n",
       "      <td>503.860962</td>\n",
       "      <td>2595.971261</td>\n",
       "      <td>2389.434404</td>\n",
       "      <td>2953.002151</td>\n",
       "      <td>1450.605273</td>\n",
       "      <td>2293.756300</td>\n",
       "      <td>1985.669943</td>\n",
       "      <td>1775.231189</td>\n",
       "    </tr>\n",
       "    <tr>\n",
       "      <th>Frankfurt</th>\n",
       "      <td>318.038836</td>\n",
       "      <td>479.609749</td>\n",
       "      <td>1447.275173</td>\n",
       "      <td>inf</td>\n",
       "      <td>628.513394</td>\n",
       "      <td>673.169013</td>\n",
       "      <td>809.170903</td>\n",
       "      <td>423.501192</td>\n",
       "      <td>599.145549</td>\n",
       "      <td>959.308769</td>\n",
       "      <td>365.130802</td>\n",
       "      <td>1893.702095</td>\n",
       "      <td>1188.332516</td>\n",
       "      <td>1099.029925</td>\n",
       "      <td>1517.918695</td>\n",
       "      <td>1091.012258</td>\n",
       "      <td>892.452387</td>\n",
       "      <td>821.638955</td>\n",
       "      <td>410.534503</td>\n",
       "    </tr>\n",
       "    <tr>\n",
       "      <th>Poznań</th>\n",
       "      <td>886.172161</td>\n",
       "      <td>1101.584377</td>\n",
       "      <td>2057.966030</td>\n",
       "      <td>628.513394</td>\n",
       "      <td>inf</td>\n",
       "      <td>463.455148</td>\n",
       "      <td>338.740409</td>\n",
       "      <td>239.628109</td>\n",
       "      <td>467.953754</td>\n",
       "      <td>1215.043945</td>\n",
       "      <td>817.931256</td>\n",
       "      <td>2517.436144</td>\n",
       "      <td>774.292944</td>\n",
       "      <td>919.512346</td>\n",
       "      <td>995.786536</td>\n",
       "      <td>1557.423528</td>\n",
       "      <td>279.297867</td>\n",
       "      <td>569.948160</td>\n",
       "      <td>310.871261</td>\n",
       "    </tr>\n",
       "    <tr>\n",
       "      <th>Copenhagen</th>\n",
       "      <td>767.710459</td>\n",
       "      <td>1029.917902</td>\n",
       "      <td>2075.553933</td>\n",
       "      <td>673.169013</td>\n",
       "      <td>463.455148</td>\n",
       "      <td>inf</td>\n",
       "      <td>801.612589</td>\n",
       "      <td>357.619993</td>\n",
       "      <td>871.858338</td>\n",
       "      <td>1533.908536</td>\n",
       "      <td>623.238796</td>\n",
       "      <td>2482.249120</td>\n",
       "      <td>522.076923</td>\n",
       "      <td>483.113219</td>\n",
       "      <td>884.672784</td>\n",
       "      <td>1242.757391</td>\n",
       "      <td>673.462513</td>\n",
       "      <td>1019.303173</td>\n",
       "      <td>635.383059</td>\n",
       "    </tr>\n",
       "    <tr>\n",
       "      <th>Kraków</th>\n",
       "      <td>1112.738318</td>\n",
       "      <td>1283.544442</td>\n",
       "      <td>2133.386065</td>\n",
       "      <td>809.170903</td>\n",
       "      <td>338.740409</td>\n",
       "      <td>801.612589</td>\n",
       "      <td>inf</td>\n",
       "      <td>535.518832</td>\n",
       "      <td>334.289287</td>\n",
       "      <td>1076.036281</td>\n",
       "      <td>1084.576721</td>\n",
       "      <td>2617.819002</td>\n",
       "      <td>1040.146990</td>\n",
       "      <td>1245.404232</td>\n",
       "      <td>1169.230440</td>\n",
       "      <td>1841.156397</td>\n",
       "      <td>253.138679</td>\n",
       "      <td>292.077117</td>\n",
       "      <td>399.143555</td>\n",
       "    </tr>\n",
       "    <tr>\n",
       "      <th>Berlin</th>\n",
       "      <td>652.100677</td>\n",
       "      <td>879.341073</td>\n",
       "      <td>1870.469166</td>\n",
       "      <td>423.501192</td>\n",
       "      <td>239.628109</td>\n",
       "      <td>357.619993</td>\n",
       "      <td>535.518832</td>\n",
       "      <td>inf</td>\n",
       "      <td>523.171508</td>\n",
       "      <td>1182.415406</td>\n",
       "      <td>578.305818</td>\n",
       "      <td>2315.474922</td>\n",
       "      <td>812.503827</td>\n",
       "      <td>840.413472</td>\n",
       "      <td>1108.797113</td>\n",
       "      <td>1321.096698</td>\n",
       "      <td>518.839768</td>\n",
       "      <td>694.339939</td>\n",
       "      <td>278.875994</td>\n",
       "    </tr>\n",
       "    <tr>\n",
       "      <th>Vienna</th>\n",
       "      <td>917.142666</td>\n",
       "      <td>1036.774699</td>\n",
       "      <td>1813.022483</td>\n",
       "      <td>599.145549</td>\n",
       "      <td>467.953754</td>\n",
       "      <td>871.858338</td>\n",
       "      <td>334.289287</td>\n",
       "      <td>523.171508</td>\n",
       "      <td>inf</td>\n",
       "      <td>765.519256</td>\n",
       "      <td>938.610286</td>\n",
       "      <td>2303.623725</td>\n",
       "      <td>1242.246028</td>\n",
       "      <td>1352.834013</td>\n",
       "      <td>1441.121679</td>\n",
       "      <td>1687.008046</td>\n",
       "      <td>556.254026</td>\n",
       "      <td>222.763869</td>\n",
       "      <td>252.838323</td>\n",
       "    </tr>\n",
       "    <tr>\n",
       "      <th>Rome</th>\n",
       "      <td>1173.946223</td>\n",
       "      <td>1106.617205</td>\n",
       "      <td>1366.446672</td>\n",
       "      <td>959.308769</td>\n",
       "      <td>1215.043945</td>\n",
       "      <td>1533.908536</td>\n",
       "      <td>1076.036281</td>\n",
       "      <td>1182.415406</td>\n",
       "      <td>765.519256</td>\n",
       "      <td>inf</td>\n",
       "      <td>1297.915883</td>\n",
       "      <td>1866.531996</td>\n",
       "      <td>1977.338885</td>\n",
       "      <td>2008.206361</td>\n",
       "      <td>2204.224176</td>\n",
       "      <td>1888.717343</td>\n",
       "      <td>1317.125825</td>\n",
       "      <td>814.616878</td>\n",
       "      <td>922.997167</td>\n",
       "    </tr>\n",
       "    <tr>\n",
       "      <th>Amsterdam</th>\n",
       "      <td>173.921384</td>\n",
       "      <td>430.876419</td>\n",
       "      <td>1481.953707</td>\n",
       "      <td>365.130802</td>\n",
       "      <td>817.931256</td>\n",
       "      <td>623.238796</td>\n",
       "      <td>1084.576721</td>\n",
       "      <td>578.305818</td>\n",
       "      <td>938.610286</td>\n",
       "      <td>1297.915883</td>\n",
       "      <td>inf</td>\n",
       "      <td>1865.663123</td>\n",
       "      <td>1127.894234</td>\n",
       "      <td>914.001812</td>\n",
       "      <td>1505.695515</td>\n",
       "      <td>758.194382</td>\n",
       "      <td>1097.057839</td>\n",
       "      <td>1156.293741</td>\n",
       "      <td>711.833067</td>\n",
       "    </tr>\n",
       "    <tr>\n",
       "      <th>Lisbon</th>\n",
       "      <td>1714.630061</td>\n",
       "      <td>1454.565133</td>\n",
       "      <td>503.860962</td>\n",
       "      <td>1893.702095</td>\n",
       "      <td>2517.436144</td>\n",
       "      <td>2482.249120</td>\n",
       "      <td>2617.819002</td>\n",
       "      <td>2315.474922</td>\n",
       "      <td>2303.623725</td>\n",
       "      <td>1866.531996</td>\n",
       "      <td>1865.663123</td>\n",
       "      <td>inf</td>\n",
       "      <td>2993.535036</td>\n",
       "      <td>2741.693968</td>\n",
       "      <td>3366.819166</td>\n",
       "      <td>1642.254161</td>\n",
       "      <td>2764.765998</td>\n",
       "      <td>2482.724665</td>\n",
       "      <td>2247.666433</td>\n",
       "    </tr>\n",
       "    <tr>\n",
       "      <th>Stockholm</th>\n",
       "      <td>1282.930923</td>\n",
       "      <td>1546.862461</td>\n",
       "      <td>2595.971261</td>\n",
       "      <td>1188.332516</td>\n",
       "      <td>774.292944</td>\n",
       "      <td>522.076923</td>\n",
       "      <td>1040.146990</td>\n",
       "      <td>812.503827</td>\n",
       "      <td>1242.246028</td>\n",
       "      <td>1977.338885</td>\n",
       "      <td>1127.894234</td>\n",
       "      <td>2993.535036</td>\n",
       "      <td>inf</td>\n",
       "      <td>418.756086</td>\n",
       "      <td>397.403112</td>\n",
       "      <td>1633.369175</td>\n",
       "      <td>810.728459</td>\n",
       "      <td>1320.013772</td>\n",
       "      <td>1054.477300</td>\n",
       "    </tr>\n",
       "    <tr>\n",
       "      <th>Oslo</th>\n",
       "      <td>1086.369075</td>\n",
       "      <td>1343.897117</td>\n",
       "      <td>2389.434404</td>\n",
       "      <td>1099.029925</td>\n",
       "      <td>919.512346</td>\n",
       "      <td>483.113219</td>\n",
       "      <td>1245.404232</td>\n",
       "      <td>840.413472</td>\n",
       "      <td>1352.834013</td>\n",
       "      <td>2008.206361</td>\n",
       "      <td>914.001812</td>\n",
       "      <td>2741.693968</td>\n",
       "      <td>418.756086</td>\n",
       "      <td>inf</td>\n",
       "      <td>790.581839</td>\n",
       "      <td>1267.952316</td>\n",
       "      <td>1065.323211</td>\n",
       "      <td>1488.124145</td>\n",
       "      <td>1118.494614</td>\n",
       "    </tr>\n",
       "    <tr>\n",
       "      <th>Helsinki</th>\n",
       "      <td>1652.190825</td>\n",
       "      <td>1913.465069</td>\n",
       "      <td>2953.002151</td>\n",
       "      <td>1517.918695</td>\n",
       "      <td>995.786536</td>\n",
       "      <td>884.672784</td>\n",
       "      <td>1169.230440</td>\n",
       "      <td>1108.797113</td>\n",
       "      <td>1441.121679</td>\n",
       "      <td>2204.224176</td>\n",
       "      <td>1505.695515</td>\n",
       "      <td>3366.819166</td>\n",
       "      <td>397.403112</td>\n",
       "      <td>790.581839</td>\n",
       "      <td>inf</td>\n",
       "      <td>2030.249558</td>\n",
       "      <td>916.323660</td>\n",
       "      <td>1461.275248</td>\n",
       "      <td>1304.033023</td>\n",
       "    </tr>\n",
       "    <tr>\n",
       "      <th>Dublin</th>\n",
       "      <td>777.808042</td>\n",
       "      <td>782.512447</td>\n",
       "      <td>1450.605273</td>\n",
       "      <td>1091.012258</td>\n",
       "      <td>1557.423528</td>\n",
       "      <td>1242.757391</td>\n",
       "      <td>1841.156397</td>\n",
       "      <td>1321.096698</td>\n",
       "      <td>1687.008046</td>\n",
       "      <td>1888.717343</td>\n",
       "      <td>758.194382</td>\n",
       "      <td>1642.254161</td>\n",
       "      <td>1633.369175</td>\n",
       "      <td>1267.952316</td>\n",
       "      <td>2030.249558</td>\n",
       "      <td>inf</td>\n",
       "      <td>1832.451971</td>\n",
       "      <td>1907.827188</td>\n",
       "      <td>1468.895244</td>\n",
       "    </tr>\n",
       "    <tr>\n",
       "      <th>Warsaw</th>\n",
       "      <td>1163.134822</td>\n",
       "      <td>1370.596166</td>\n",
       "      <td>2293.756300</td>\n",
       "      <td>892.452387</td>\n",
       "      <td>279.297867</td>\n",
       "      <td>673.462513</td>\n",
       "      <td>253.138679</td>\n",
       "      <td>518.839768</td>\n",
       "      <td>556.254026</td>\n",
       "      <td>1317.125825</td>\n",
       "      <td>1097.057839</td>\n",
       "      <td>2764.765998</td>\n",
       "      <td>810.728459</td>\n",
       "      <td>1065.323211</td>\n",
       "      <td>916.323660</td>\n",
       "      <td>1832.451971</td>\n",
       "      <td>inf</td>\n",
       "      <td>545.013965</td>\n",
       "      <td>518.535027</td>\n",
       "    </tr>\n",
       "    <tr>\n",
       "      <th>Budapest</th>\n",
       "      <td>1139.675614</td>\n",
       "      <td>1256.138365</td>\n",
       "      <td>1985.669943</td>\n",
       "      <td>821.638955</td>\n",
       "      <td>569.948160</td>\n",
       "      <td>1019.303173</td>\n",
       "      <td>292.077117</td>\n",
       "      <td>694.339939</td>\n",
       "      <td>222.763869</td>\n",
       "      <td>814.616878</td>\n",
       "      <td>1156.293741</td>\n",
       "      <td>2482.724665</td>\n",
       "      <td>1320.013772</td>\n",
       "      <td>1488.124145</td>\n",
       "      <td>1461.275248</td>\n",
       "      <td>1907.827188</td>\n",
       "      <td>545.013965</td>\n",
       "      <td>inf</td>\n",
       "      <td>452.113891</td>\n",
       "    </tr>\n",
       "    <tr>\n",
       "      <th>Prague</th>\n",
       "      <td>719.324065</td>\n",
       "      <td>884.728663</td>\n",
       "      <td>1775.231189</td>\n",
       "      <td>410.534503</td>\n",
       "      <td>310.871261</td>\n",
       "      <td>635.383059</td>\n",
       "      <td>399.143555</td>\n",
       "      <td>278.875994</td>\n",
       "      <td>252.838323</td>\n",
       "      <td>922.997167</td>\n",
       "      <td>711.833067</td>\n",
       "      <td>2247.666433</td>\n",
       "      <td>1054.477300</td>\n",
       "      <td>1118.494614</td>\n",
       "      <td>1304.033023</td>\n",
       "      <td>1468.895244</td>\n",
       "      <td>518.535027</td>\n",
       "      <td>452.113891</td>\n",
       "      <td>inf</td>\n",
       "    </tr>\n",
       "  </tbody>\n",
       "</table>\n",
       "</div>"
      ],
      "text/plain": [
       "City           Brussels        Paris       Madrid    Frankfurt       Poznań  \\\n",
       "City                                                                          \n",
       "Brussels            inf   264.362788  1316.608740   318.038836   886.172161   \n",
       "Paris        264.362788          inf  1052.529076   479.609749  1101.584377   \n",
       "Madrid      1316.608740  1052.529076          inf  1447.275173  2057.966030   \n",
       "Frankfurt    318.038836   479.609749  1447.275173          inf   628.513394   \n",
       "Poznań       886.172161  1101.584377  2057.966030   628.513394          inf   \n",
       "Copenhagen   767.710459  1029.917902  2075.553933   673.169013   463.455148   \n",
       "Kraków      1112.738318  1283.544442  2133.386065   809.170903   338.740409   \n",
       "Berlin       652.100677   879.341073  1870.469166   423.501192   239.628109   \n",
       "Vienna       917.142666  1036.774699  1813.022483   599.145549   467.953754   \n",
       "Rome        1173.946223  1106.617205  1366.446672   959.308769  1215.043945   \n",
       "Amsterdam    173.921384   430.876419  1481.953707   365.130802   817.931256   \n",
       "Lisbon      1714.630061  1454.565133   503.860962  1893.702095  2517.436144   \n",
       "Stockholm   1282.930923  1546.862461  2595.971261  1188.332516   774.292944   \n",
       "Oslo        1086.369075  1343.897117  2389.434404  1099.029925   919.512346   \n",
       "Helsinki    1652.190825  1913.465069  2953.002151  1517.918695   995.786536   \n",
       "Dublin       777.808042   782.512447  1450.605273  1091.012258  1557.423528   \n",
       "Warsaw      1163.134822  1370.596166  2293.756300   892.452387   279.297867   \n",
       "Budapest    1139.675614  1256.138365  1985.669943   821.638955   569.948160   \n",
       "Prague       719.324065   884.728663  1775.231189   410.534503   310.871261   \n",
       "\n",
       "City         Copenhagen       Kraków       Berlin       Vienna         Rome  \\\n",
       "City                                                                          \n",
       "Brussels     767.710459  1112.738318   652.100677   917.142666  1173.946223   \n",
       "Paris       1029.917902  1283.544442   879.341073  1036.774699  1106.617205   \n",
       "Madrid      2075.553933  2133.386065  1870.469166  1813.022483  1366.446672   \n",
       "Frankfurt    673.169013   809.170903   423.501192   599.145549   959.308769   \n",
       "Poznań       463.455148   338.740409   239.628109   467.953754  1215.043945   \n",
       "Copenhagen          inf   801.612589   357.619993   871.858338  1533.908536   \n",
       "Kraków       801.612589          inf   535.518832   334.289287  1076.036281   \n",
       "Berlin       357.619993   535.518832          inf   523.171508  1182.415406   \n",
       "Vienna       871.858338   334.289287   523.171508          inf   765.519256   \n",
       "Rome        1533.908536  1076.036281  1182.415406   765.519256          inf   \n",
       "Amsterdam    623.238796  1084.576721   578.305818   938.610286  1297.915883   \n",
       "Lisbon      2482.249120  2617.819002  2315.474922  2303.623725  1866.531996   \n",
       "Stockholm    522.076923  1040.146990   812.503827  1242.246028  1977.338885   \n",
       "Oslo         483.113219  1245.404232   840.413472  1352.834013  2008.206361   \n",
       "Helsinki     884.672784  1169.230440  1108.797113  1441.121679  2204.224176   \n",
       "Dublin      1242.757391  1841.156397  1321.096698  1687.008046  1888.717343   \n",
       "Warsaw       673.462513   253.138679   518.839768   556.254026  1317.125825   \n",
       "Budapest    1019.303173   292.077117   694.339939   222.763869   814.616878   \n",
       "Prague       635.383059   399.143555   278.875994   252.838323   922.997167   \n",
       "\n",
       "City          Amsterdam       Lisbon    Stockholm         Oslo     Helsinki  \\\n",
       "City                                                                          \n",
       "Brussels     173.921384  1714.630061  1282.930923  1086.369075  1652.190825   \n",
       "Paris        430.876419  1454.565133  1546.862461  1343.897117  1913.465069   \n",
       "Madrid      1481.953707   503.860962  2595.971261  2389.434404  2953.002151   \n",
       "Frankfurt    365.130802  1893.702095  1188.332516  1099.029925  1517.918695   \n",
       "Poznań       817.931256  2517.436144   774.292944   919.512346   995.786536   \n",
       "Copenhagen   623.238796  2482.249120   522.076923   483.113219   884.672784   \n",
       "Kraków      1084.576721  2617.819002  1040.146990  1245.404232  1169.230440   \n",
       "Berlin       578.305818  2315.474922   812.503827   840.413472  1108.797113   \n",
       "Vienna       938.610286  2303.623725  1242.246028  1352.834013  1441.121679   \n",
       "Rome        1297.915883  1866.531996  1977.338885  2008.206361  2204.224176   \n",
       "Amsterdam           inf  1865.663123  1127.894234   914.001812  1505.695515   \n",
       "Lisbon      1865.663123          inf  2993.535036  2741.693968  3366.819166   \n",
       "Stockholm   1127.894234  2993.535036          inf   418.756086   397.403112   \n",
       "Oslo         914.001812  2741.693968   418.756086          inf   790.581839   \n",
       "Helsinki    1505.695515  3366.819166   397.403112   790.581839          inf   \n",
       "Dublin       758.194382  1642.254161  1633.369175  1267.952316  2030.249558   \n",
       "Warsaw      1097.057839  2764.765998   810.728459  1065.323211   916.323660   \n",
       "Budapest    1156.293741  2482.724665  1320.013772  1488.124145  1461.275248   \n",
       "Prague       711.833067  2247.666433  1054.477300  1118.494614  1304.033023   \n",
       "\n",
       "City             Dublin       Warsaw     Budapest       Prague  \n",
       "City                                                            \n",
       "Brussels     777.808042  1163.134822  1139.675614   719.324065  \n",
       "Paris        782.512447  1370.596166  1256.138365   884.728663  \n",
       "Madrid      1450.605273  2293.756300  1985.669943  1775.231189  \n",
       "Frankfurt   1091.012258   892.452387   821.638955   410.534503  \n",
       "Poznań      1557.423528   279.297867   569.948160   310.871261  \n",
       "Copenhagen  1242.757391   673.462513  1019.303173   635.383059  \n",
       "Kraków      1841.156397   253.138679   292.077117   399.143555  \n",
       "Berlin      1321.096698   518.839768   694.339939   278.875994  \n",
       "Vienna      1687.008046   556.254026   222.763869   252.838323  \n",
       "Rome        1888.717343  1317.125825   814.616878   922.997167  \n",
       "Amsterdam    758.194382  1097.057839  1156.293741   711.833067  \n",
       "Lisbon      1642.254161  2764.765998  2482.724665  2247.666433  \n",
       "Stockholm   1633.369175   810.728459  1320.013772  1054.477300  \n",
       "Oslo        1267.952316  1065.323211  1488.124145  1118.494614  \n",
       "Helsinki    2030.249558   916.323660  1461.275248  1304.033023  \n",
       "Dublin              inf  1832.451971  1907.827188  1468.895244  \n",
       "Warsaw      1832.451971          inf   545.013965   518.535027  \n",
       "Budapest    1907.827188   545.013965          inf   452.113891  \n",
       "Prague      1468.895244   518.535027   452.113891          inf  "
      ]
     },
     "execution_count": 11,
     "metadata": {},
     "output_type": "execute_result"
    }
   ],
   "source": [
    "distances"
   ]
  },
  {
   "cell_type": "markdown",
   "metadata": {},
   "source": []
  },
  {
   "cell_type": "code",
   "execution_count": 18,
   "metadata": {},
   "outputs": [],
   "source": [
    "startingCity = 'Paris'"
   ]
  },
  {
   "cell_type": "code",
   "execution_count": 19,
   "metadata": {},
   "outputs": [
    {
     "name": "stdout",
     "output_type": "stream",
     "text": [
      "Going from Paris to Brussels with distance 264.36 km\n",
      "Going from Brussels to Amsterdam with distance 173.92 km\n",
      "Going from Amsterdam to Frankfurt with distance 365.13 km\n",
      "Going from Frankfurt to Prague with distance 410.53 km\n",
      "Going from Prague to Vienna with distance 252.84 km\n",
      "Going from Vienna to Budapest with distance 222.76 km\n",
      "Going from Budapest to Kraków with distance 292.08 km\n",
      "Going from Kraków to Warsaw with distance 253.14 km\n",
      "Going from Warsaw to Poznań with distance 279.3 km\n",
      "Going from Poznań to Berlin with distance 239.63 km\n",
      "Going from Berlin to Copenhagen with distance 357.62 km\n",
      "Going from Copenhagen to Oslo with distance 483.11 km\n",
      "Going from Oslo to Stockholm with distance 418.76 km\n",
      "Going from Stockholm to Helsinki with distance 397.4 km\n",
      "Going from Helsinki to Dublin with distance 2030.25 km\n",
      "Going from Dublin to Madrid with distance 1450.61 km\n",
      "Going from Madrid to Lisbon with distance 503.86 km\n",
      "Going from Lisbon to Rome with distance 1866.53 km\n",
      "Total distance travelled: 10261.83 km\n"
     ]
    }
   ],
   "source": [
    "visited = [startingCity]\n",
    "distancesTravelled=[]\n",
    "unvisited = cities['City'].tolist()\n",
    "unvisited.remove(startingCity)\n",
    "for i in range(len(cities)-1):\n",
    "    currentCity = visited[-1]\n",
    "    nextCity = distances.loc[currentCity,unvisited].idxmin()\n",
    "    distancesTravelled.append(distances.loc[currentCity, nextCity])\n",
    "    visited.append(nextCity)\n",
    "    unvisited.remove(nextCity)\n",
    "    print(f'Going from {currentCity} to {nextCity} with distance {np.round(distances.loc[currentCity, nextCity],2)} km')\n",
    "\n",
    "print(f'Total distance travelled: {np.round(sum(distancesTravelled),2)} km')"
   ]
  },
  {
   "cell_type": "code",
   "execution_count": null,
   "metadata": {},
   "outputs": [],
   "source": []
  },
  {
   "cell_type": "code",
   "execution_count": 20,
   "metadata": {},
   "outputs": [
    {
     "data": {
      "application/vnd.plotly.v1+json": {
       "config": {
        "plotlyServerURL": "https://plot.ly"
       },
       "data": [
        {
         "geo": "geo",
         "hovertemplate": "City=%{text}<br>latitude=%{lat}<br>longitude=%{lon}<extra></extra>",
         "lat": [
          50.8465573,
          48.8534951,
          40.4167047,
          50.1106444,
          52.4006632,
          55.6867243,
          50.0469432,
          52.510885,
          48.2083537,
          41.8933203,
          52.3730796,
          38.7077507,
          59.3251172,
          59.9133301,
          60.1674881,
          53.3493795,
          52.2319581,
          47.48138955,
          50.0874654
         ],
         "legendgroup": "",
         "lon": [
          4.351697,
          2.3483915,
          -3.7035825,
          8.6820917,
          16.91973259178088,
          12.5700724,
          19.997153435836697,
          13.3989367,
          16.3725042,
          12.4829321,
          4.8924534,
          -9.1365919,
          18.0710935,
          10.7389701,
          24.9427473,
          -6.2605593,
          21.0067249,
          19.14609412691246,
          14.4212535
         ],
         "marker": {
          "color": "blue",
          "size": 10,
          "symbol": "circle"
         },
         "mode": "markers+text",
         "name": "",
         "showlegend": false,
         "text": [
          "Brussels",
          "Paris",
          "Madrid",
          "Frankfurt",
          "Poznań",
          "Copenhagen",
          "Kraków",
          "Berlin",
          "Vienna",
          "Rome",
          "Amsterdam",
          "Lisbon",
          "Stockholm",
          "Oslo",
          "Helsinki",
          "Dublin",
          "Warsaw",
          "Budapest",
          "Prague"
         ],
         "textposition": "top center",
         "type": "scattergeo"
        },
        {
         "hoverinfo": "text",
         "lat": [
          48.8534951,
          50.8465573
         ],
         "line": {
          "color": "blue",
          "width": 2
         },
         "locationmode": "ISO-3",
         "lon": [
          2.3483915,
          4.351697
         ],
         "marker": {
          "color": "blue",
          "size": 10
         },
         "mode": "lines",
         "name": "Paris to Brussels",
         "showlegend": true,
         "text": "Distance: 264.0 km",
         "textposition": "top center",
         "type": "scattergeo"
        },
        {
         "hoverinfo": "text",
         "lat": [
          50.8465573,
          52.3730796
         ],
         "line": {
          "color": "blue",
          "width": 2
         },
         "locationmode": "ISO-3",
         "lon": [
          4.351697,
          4.8924534
         ],
         "marker": {
          "color": "blue",
          "size": 10
         },
         "mode": "lines",
         "name": "Brussels to Amsterdam",
         "showlegend": true,
         "text": "Distance: 174.0 km",
         "textposition": "top center",
         "type": "scattergeo"
        },
        {
         "hoverinfo": "text",
         "lat": [
          52.3730796,
          50.1106444
         ],
         "line": {
          "color": "blue",
          "width": 2
         },
         "locationmode": "ISO-3",
         "lon": [
          4.8924534,
          8.6820917
         ],
         "marker": {
          "color": "blue",
          "size": 10
         },
         "mode": "lines",
         "name": "Amsterdam to Frankfurt",
         "showlegend": true,
         "text": "Distance: 365.0 km",
         "textposition": "top center",
         "type": "scattergeo"
        },
        {
         "hoverinfo": "text",
         "lat": [
          50.1106444,
          50.0874654
         ],
         "line": {
          "color": "blue",
          "width": 2
         },
         "locationmode": "ISO-3",
         "lon": [
          8.6820917,
          14.4212535
         ],
         "marker": {
          "color": "blue",
          "size": 10
         },
         "mode": "lines",
         "name": "Frankfurt to Prague",
         "showlegend": true,
         "text": "Distance: 411.0 km",
         "textposition": "top center",
         "type": "scattergeo"
        },
        {
         "hoverinfo": "text",
         "lat": [
          50.0874654,
          48.2083537
         ],
         "line": {
          "color": "blue",
          "width": 2
         },
         "locationmode": "ISO-3",
         "lon": [
          14.4212535,
          16.3725042
         ],
         "marker": {
          "color": "blue",
          "size": 10
         },
         "mode": "lines",
         "name": "Prague to Vienna",
         "showlegend": true,
         "text": "Distance: 253.0 km",
         "textposition": "top center",
         "type": "scattergeo"
        },
        {
         "hoverinfo": "text",
         "lat": [
          48.2083537,
          47.48138955
         ],
         "line": {
          "color": "blue",
          "width": 2
         },
         "locationmode": "ISO-3",
         "lon": [
          16.3725042,
          19.14609412691246
         ],
         "marker": {
          "color": "blue",
          "size": 10
         },
         "mode": "lines",
         "name": "Vienna to Budapest",
         "showlegend": true,
         "text": "Distance: 223.0 km",
         "textposition": "top center",
         "type": "scattergeo"
        },
        {
         "hoverinfo": "text",
         "lat": [
          47.48138955,
          50.0469432
         ],
         "line": {
          "color": "blue",
          "width": 2
         },
         "locationmode": "ISO-3",
         "lon": [
          19.14609412691246,
          19.997153435836697
         ],
         "marker": {
          "color": "blue",
          "size": 10
         },
         "mode": "lines",
         "name": "Budapest to Kraków",
         "showlegend": true,
         "text": "Distance: 292.0 km",
         "textposition": "top center",
         "type": "scattergeo"
        },
        {
         "hoverinfo": "text",
         "lat": [
          50.0469432,
          52.2319581
         ],
         "line": {
          "color": "blue",
          "width": 2
         },
         "locationmode": "ISO-3",
         "lon": [
          19.997153435836697,
          21.0067249
         ],
         "marker": {
          "color": "blue",
          "size": 10
         },
         "mode": "lines",
         "name": "Kraków to Warsaw",
         "showlegend": true,
         "text": "Distance: 253.0 km",
         "textposition": "top center",
         "type": "scattergeo"
        },
        {
         "hoverinfo": "text",
         "lat": [
          52.2319581,
          52.4006632
         ],
         "line": {
          "color": "blue",
          "width": 2
         },
         "locationmode": "ISO-3",
         "lon": [
          21.0067249,
          16.91973259178088
         ],
         "marker": {
          "color": "blue",
          "size": 10
         },
         "mode": "lines",
         "name": "Warsaw to Poznań",
         "showlegend": true,
         "text": "Distance: 279.0 km",
         "textposition": "top center",
         "type": "scattergeo"
        },
        {
         "hoverinfo": "text",
         "lat": [
          52.4006632,
          52.510885
         ],
         "line": {
          "color": "blue",
          "width": 2
         },
         "locationmode": "ISO-3",
         "lon": [
          16.91973259178088,
          13.3989367
         ],
         "marker": {
          "color": "blue",
          "size": 10
         },
         "mode": "lines",
         "name": "Poznań to Berlin",
         "showlegend": true,
         "text": "Distance: 240.0 km",
         "textposition": "top center",
         "type": "scattergeo"
        },
        {
         "hoverinfo": "text",
         "lat": [
          52.510885,
          55.6867243
         ],
         "line": {
          "color": "blue",
          "width": 2
         },
         "locationmode": "ISO-3",
         "lon": [
          13.3989367,
          12.5700724
         ],
         "marker": {
          "color": "blue",
          "size": 10
         },
         "mode": "lines",
         "name": "Berlin to Copenhagen",
         "showlegend": true,
         "text": "Distance: 358.0 km",
         "textposition": "top center",
         "type": "scattergeo"
        },
        {
         "hoverinfo": "text",
         "lat": [
          55.6867243,
          59.9133301
         ],
         "line": {
          "color": "blue",
          "width": 2
         },
         "locationmode": "ISO-3",
         "lon": [
          12.5700724,
          10.7389701
         ],
         "marker": {
          "color": "blue",
          "size": 10
         },
         "mode": "lines",
         "name": "Copenhagen to Oslo",
         "showlegend": true,
         "text": "Distance: 483.0 km",
         "textposition": "top center",
         "type": "scattergeo"
        },
        {
         "hoverinfo": "text",
         "lat": [
          59.9133301,
          59.3251172
         ],
         "line": {
          "color": "blue",
          "width": 2
         },
         "locationmode": "ISO-3",
         "lon": [
          10.7389701,
          18.0710935
         ],
         "marker": {
          "color": "blue",
          "size": 10
         },
         "mode": "lines",
         "name": "Oslo to Stockholm",
         "showlegend": true,
         "text": "Distance: 419.0 km",
         "textposition": "top center",
         "type": "scattergeo"
        },
        {
         "hoverinfo": "text",
         "lat": [
          59.3251172,
          60.1674881
         ],
         "line": {
          "color": "blue",
          "width": 2
         },
         "locationmode": "ISO-3",
         "lon": [
          18.0710935,
          24.9427473
         ],
         "marker": {
          "color": "blue",
          "size": 10
         },
         "mode": "lines",
         "name": "Stockholm to Helsinki",
         "showlegend": true,
         "text": "Distance: 397.0 km",
         "textposition": "top center",
         "type": "scattergeo"
        },
        {
         "hoverinfo": "text",
         "lat": [
          60.1674881,
          53.3493795
         ],
         "line": {
          "color": "blue",
          "width": 2
         },
         "locationmode": "ISO-3",
         "lon": [
          24.9427473,
          -6.2605593
         ],
         "marker": {
          "color": "blue",
          "size": 10
         },
         "mode": "lines",
         "name": "Helsinki to Dublin",
         "showlegend": true,
         "text": "Distance: 2030.0 km",
         "textposition": "top center",
         "type": "scattergeo"
        },
        {
         "hoverinfo": "text",
         "lat": [
          53.3493795,
          40.4167047
         ],
         "line": {
          "color": "blue",
          "width": 2
         },
         "locationmode": "ISO-3",
         "lon": [
          -6.2605593,
          -3.7035825
         ],
         "marker": {
          "color": "blue",
          "size": 10
         },
         "mode": "lines",
         "name": "Dublin to Madrid",
         "showlegend": true,
         "text": "Distance: 1451.0 km",
         "textposition": "top center",
         "type": "scattergeo"
        },
        {
         "hoverinfo": "text",
         "lat": [
          40.4167047,
          38.7077507
         ],
         "line": {
          "color": "blue",
          "width": 2
         },
         "locationmode": "ISO-3",
         "lon": [
          -3.7035825,
          -9.1365919
         ],
         "marker": {
          "color": "blue",
          "size": 10
         },
         "mode": "lines",
         "name": "Madrid to Lisbon",
         "showlegend": true,
         "text": "Distance: 504.0 km",
         "textposition": "top center",
         "type": "scattergeo"
        },
        {
         "hoverinfo": "text",
         "lat": [
          38.7077507,
          41.8933203
         ],
         "line": {
          "color": "blue",
          "width": 2
         },
         "locationmode": "ISO-3",
         "lon": [
          -9.1365919,
          12.4829321
         ],
         "marker": {
          "color": "blue",
          "size": 10
         },
         "mode": "lines",
         "name": "Lisbon to Rome",
         "showlegend": true,
         "text": "Distance: 1867.0 km",
         "textposition": "top center",
         "type": "scattergeo"
        }
       ],
       "layout": {
        "geo": {
         "center": {},
         "countrycolor": "darkgray",
         "domain": {
          "x": [
           0,
           1
          ],
          "y": [
           0,
           1
          ]
         },
         "landcolor": "lightgray",
         "scope": "europe",
         "showland": true
        },
        "height": 600,
        "legend": {
         "tracegroupgap": 0
        },
        "template": {
         "data": {
          "bar": [
           {
            "error_x": {
             "color": "#2a3f5f"
            },
            "error_y": {
             "color": "#2a3f5f"
            },
            "marker": {
             "line": {
              "color": "#E5ECF6",
              "width": 0.5
             },
             "pattern": {
              "fillmode": "overlay",
              "size": 10,
              "solidity": 0.2
             }
            },
            "type": "bar"
           }
          ],
          "barpolar": [
           {
            "marker": {
             "line": {
              "color": "#E5ECF6",
              "width": 0.5
             },
             "pattern": {
              "fillmode": "overlay",
              "size": 10,
              "solidity": 0.2
             }
            },
            "type": "barpolar"
           }
          ],
          "carpet": [
           {
            "aaxis": {
             "endlinecolor": "#2a3f5f",
             "gridcolor": "white",
             "linecolor": "white",
             "minorgridcolor": "white",
             "startlinecolor": "#2a3f5f"
            },
            "baxis": {
             "endlinecolor": "#2a3f5f",
             "gridcolor": "white",
             "linecolor": "white",
             "minorgridcolor": "white",
             "startlinecolor": "#2a3f5f"
            },
            "type": "carpet"
           }
          ],
          "choropleth": [
           {
            "colorbar": {
             "outlinewidth": 0,
             "ticks": ""
            },
            "type": "choropleth"
           }
          ],
          "contour": [
           {
            "colorbar": {
             "outlinewidth": 0,
             "ticks": ""
            },
            "colorscale": [
             [
              0,
              "#0d0887"
             ],
             [
              0.1111111111111111,
              "#46039f"
             ],
             [
              0.2222222222222222,
              "#7201a8"
             ],
             [
              0.3333333333333333,
              "#9c179e"
             ],
             [
              0.4444444444444444,
              "#bd3786"
             ],
             [
              0.5555555555555556,
              "#d8576b"
             ],
             [
              0.6666666666666666,
              "#ed7953"
             ],
             [
              0.7777777777777778,
              "#fb9f3a"
             ],
             [
              0.8888888888888888,
              "#fdca26"
             ],
             [
              1,
              "#f0f921"
             ]
            ],
            "type": "contour"
           }
          ],
          "contourcarpet": [
           {
            "colorbar": {
             "outlinewidth": 0,
             "ticks": ""
            },
            "type": "contourcarpet"
           }
          ],
          "heatmap": [
           {
            "colorbar": {
             "outlinewidth": 0,
             "ticks": ""
            },
            "colorscale": [
             [
              0,
              "#0d0887"
             ],
             [
              0.1111111111111111,
              "#46039f"
             ],
             [
              0.2222222222222222,
              "#7201a8"
             ],
             [
              0.3333333333333333,
              "#9c179e"
             ],
             [
              0.4444444444444444,
              "#bd3786"
             ],
             [
              0.5555555555555556,
              "#d8576b"
             ],
             [
              0.6666666666666666,
              "#ed7953"
             ],
             [
              0.7777777777777778,
              "#fb9f3a"
             ],
             [
              0.8888888888888888,
              "#fdca26"
             ],
             [
              1,
              "#f0f921"
             ]
            ],
            "type": "heatmap"
           }
          ],
          "heatmapgl": [
           {
            "colorbar": {
             "outlinewidth": 0,
             "ticks": ""
            },
            "colorscale": [
             [
              0,
              "#0d0887"
             ],
             [
              0.1111111111111111,
              "#46039f"
             ],
             [
              0.2222222222222222,
              "#7201a8"
             ],
             [
              0.3333333333333333,
              "#9c179e"
             ],
             [
              0.4444444444444444,
              "#bd3786"
             ],
             [
              0.5555555555555556,
              "#d8576b"
             ],
             [
              0.6666666666666666,
              "#ed7953"
             ],
             [
              0.7777777777777778,
              "#fb9f3a"
             ],
             [
              0.8888888888888888,
              "#fdca26"
             ],
             [
              1,
              "#f0f921"
             ]
            ],
            "type": "heatmapgl"
           }
          ],
          "histogram": [
           {
            "marker": {
             "pattern": {
              "fillmode": "overlay",
              "size": 10,
              "solidity": 0.2
             }
            },
            "type": "histogram"
           }
          ],
          "histogram2d": [
           {
            "colorbar": {
             "outlinewidth": 0,
             "ticks": ""
            },
            "colorscale": [
             [
              0,
              "#0d0887"
             ],
             [
              0.1111111111111111,
              "#46039f"
             ],
             [
              0.2222222222222222,
              "#7201a8"
             ],
             [
              0.3333333333333333,
              "#9c179e"
             ],
             [
              0.4444444444444444,
              "#bd3786"
             ],
             [
              0.5555555555555556,
              "#d8576b"
             ],
             [
              0.6666666666666666,
              "#ed7953"
             ],
             [
              0.7777777777777778,
              "#fb9f3a"
             ],
             [
              0.8888888888888888,
              "#fdca26"
             ],
             [
              1,
              "#f0f921"
             ]
            ],
            "type": "histogram2d"
           }
          ],
          "histogram2dcontour": [
           {
            "colorbar": {
             "outlinewidth": 0,
             "ticks": ""
            },
            "colorscale": [
             [
              0,
              "#0d0887"
             ],
             [
              0.1111111111111111,
              "#46039f"
             ],
             [
              0.2222222222222222,
              "#7201a8"
             ],
             [
              0.3333333333333333,
              "#9c179e"
             ],
             [
              0.4444444444444444,
              "#bd3786"
             ],
             [
              0.5555555555555556,
              "#d8576b"
             ],
             [
              0.6666666666666666,
              "#ed7953"
             ],
             [
              0.7777777777777778,
              "#fb9f3a"
             ],
             [
              0.8888888888888888,
              "#fdca26"
             ],
             [
              1,
              "#f0f921"
             ]
            ],
            "type": "histogram2dcontour"
           }
          ],
          "mesh3d": [
           {
            "colorbar": {
             "outlinewidth": 0,
             "ticks": ""
            },
            "type": "mesh3d"
           }
          ],
          "parcoords": [
           {
            "line": {
             "colorbar": {
              "outlinewidth": 0,
              "ticks": ""
             }
            },
            "type": "parcoords"
           }
          ],
          "pie": [
           {
            "automargin": true,
            "type": "pie"
           }
          ],
          "scatter": [
           {
            "fillpattern": {
             "fillmode": "overlay",
             "size": 10,
             "solidity": 0.2
            },
            "type": "scatter"
           }
          ],
          "scatter3d": [
           {
            "line": {
             "colorbar": {
              "outlinewidth": 0,
              "ticks": ""
             }
            },
            "marker": {
             "colorbar": {
              "outlinewidth": 0,
              "ticks": ""
             }
            },
            "type": "scatter3d"
           }
          ],
          "scattercarpet": [
           {
            "marker": {
             "colorbar": {
              "outlinewidth": 0,
              "ticks": ""
             }
            },
            "type": "scattercarpet"
           }
          ],
          "scattergeo": [
           {
            "marker": {
             "colorbar": {
              "outlinewidth": 0,
              "ticks": ""
             }
            },
            "type": "scattergeo"
           }
          ],
          "scattergl": [
           {
            "marker": {
             "colorbar": {
              "outlinewidth": 0,
              "ticks": ""
             }
            },
            "type": "scattergl"
           }
          ],
          "scattermapbox": [
           {
            "marker": {
             "colorbar": {
              "outlinewidth": 0,
              "ticks": ""
             }
            },
            "type": "scattermapbox"
           }
          ],
          "scatterpolar": [
           {
            "marker": {
             "colorbar": {
              "outlinewidth": 0,
              "ticks": ""
             }
            },
            "type": "scatterpolar"
           }
          ],
          "scatterpolargl": [
           {
            "marker": {
             "colorbar": {
              "outlinewidth": 0,
              "ticks": ""
             }
            },
            "type": "scatterpolargl"
           }
          ],
          "scatterternary": [
           {
            "marker": {
             "colorbar": {
              "outlinewidth": 0,
              "ticks": ""
             }
            },
            "type": "scatterternary"
           }
          ],
          "surface": [
           {
            "colorbar": {
             "outlinewidth": 0,
             "ticks": ""
            },
            "colorscale": [
             [
              0,
              "#0d0887"
             ],
             [
              0.1111111111111111,
              "#46039f"
             ],
             [
              0.2222222222222222,
              "#7201a8"
             ],
             [
              0.3333333333333333,
              "#9c179e"
             ],
             [
              0.4444444444444444,
              "#bd3786"
             ],
             [
              0.5555555555555556,
              "#d8576b"
             ],
             [
              0.6666666666666666,
              "#ed7953"
             ],
             [
              0.7777777777777778,
              "#fb9f3a"
             ],
             [
              0.8888888888888888,
              "#fdca26"
             ],
             [
              1,
              "#f0f921"
             ]
            ],
            "type": "surface"
           }
          ],
          "table": [
           {
            "cells": {
             "fill": {
              "color": "#EBF0F8"
             },
             "line": {
              "color": "white"
             }
            },
            "header": {
             "fill": {
              "color": "#C8D4E3"
             },
             "line": {
              "color": "white"
             }
            },
            "type": "table"
           }
          ]
         },
         "layout": {
          "annotationdefaults": {
           "arrowcolor": "#2a3f5f",
           "arrowhead": 0,
           "arrowwidth": 1
          },
          "autotypenumbers": "strict",
          "coloraxis": {
           "colorbar": {
            "outlinewidth": 0,
            "ticks": ""
           }
          },
          "colorscale": {
           "diverging": [
            [
             0,
             "#8e0152"
            ],
            [
             0.1,
             "#c51b7d"
            ],
            [
             0.2,
             "#de77ae"
            ],
            [
             0.3,
             "#f1b6da"
            ],
            [
             0.4,
             "#fde0ef"
            ],
            [
             0.5,
             "#f7f7f7"
            ],
            [
             0.6,
             "#e6f5d0"
            ],
            [
             0.7,
             "#b8e186"
            ],
            [
             0.8,
             "#7fbc41"
            ],
            [
             0.9,
             "#4d9221"
            ],
            [
             1,
             "#276419"
            ]
           ],
           "sequential": [
            [
             0,
             "#0d0887"
            ],
            [
             0.1111111111111111,
             "#46039f"
            ],
            [
             0.2222222222222222,
             "#7201a8"
            ],
            [
             0.3333333333333333,
             "#9c179e"
            ],
            [
             0.4444444444444444,
             "#bd3786"
            ],
            [
             0.5555555555555556,
             "#d8576b"
            ],
            [
             0.6666666666666666,
             "#ed7953"
            ],
            [
             0.7777777777777778,
             "#fb9f3a"
            ],
            [
             0.8888888888888888,
             "#fdca26"
            ],
            [
             1,
             "#f0f921"
            ]
           ],
           "sequentialminus": [
            [
             0,
             "#0d0887"
            ],
            [
             0.1111111111111111,
             "#46039f"
            ],
            [
             0.2222222222222222,
             "#7201a8"
            ],
            [
             0.3333333333333333,
             "#9c179e"
            ],
            [
             0.4444444444444444,
             "#bd3786"
            ],
            [
             0.5555555555555556,
             "#d8576b"
            ],
            [
             0.6666666666666666,
             "#ed7953"
            ],
            [
             0.7777777777777778,
             "#fb9f3a"
            ],
            [
             0.8888888888888888,
             "#fdca26"
            ],
            [
             1,
             "#f0f921"
            ]
           ]
          },
          "colorway": [
           "#636efa",
           "#EF553B",
           "#00cc96",
           "#ab63fa",
           "#FFA15A",
           "#19d3f3",
           "#FF6692",
           "#B6E880",
           "#FF97FF",
           "#FECB52"
          ],
          "font": {
           "color": "#2a3f5f"
          },
          "geo": {
           "bgcolor": "white",
           "lakecolor": "white",
           "landcolor": "#E5ECF6",
           "showlakes": true,
           "showland": true,
           "subunitcolor": "white"
          },
          "hoverlabel": {
           "align": "left"
          },
          "hovermode": "closest",
          "mapbox": {
           "style": "light"
          },
          "paper_bgcolor": "white",
          "plot_bgcolor": "#E5ECF6",
          "polar": {
           "angularaxis": {
            "gridcolor": "white",
            "linecolor": "white",
            "ticks": ""
           },
           "bgcolor": "#E5ECF6",
           "radialaxis": {
            "gridcolor": "white",
            "linecolor": "white",
            "ticks": ""
           }
          },
          "scene": {
           "xaxis": {
            "backgroundcolor": "#E5ECF6",
            "gridcolor": "white",
            "gridwidth": 2,
            "linecolor": "white",
            "showbackground": true,
            "ticks": "",
            "zerolinecolor": "white"
           },
           "yaxis": {
            "backgroundcolor": "#E5ECF6",
            "gridcolor": "white",
            "gridwidth": 2,
            "linecolor": "white",
            "showbackground": true,
            "ticks": "",
            "zerolinecolor": "white"
           },
           "zaxis": {
            "backgroundcolor": "#E5ECF6",
            "gridcolor": "white",
            "gridwidth": 2,
            "linecolor": "white",
            "showbackground": true,
            "ticks": "",
            "zerolinecolor": "white"
           }
          },
          "shapedefaults": {
           "line": {
            "color": "#2a3f5f"
           }
          },
          "ternary": {
           "aaxis": {
            "gridcolor": "white",
            "linecolor": "white",
            "ticks": ""
           },
           "baxis": {
            "gridcolor": "white",
            "linecolor": "white",
            "ticks": ""
           },
           "bgcolor": "#E5ECF6",
           "caxis": {
            "gridcolor": "white",
            "linecolor": "white",
            "ticks": ""
           }
          },
          "title": {
           "x": 0.05
          },
          "xaxis": {
           "automargin": true,
           "gridcolor": "white",
           "linecolor": "white",
           "ticks": "",
           "title": {
            "standoff": 15
           },
           "zerolinecolor": "white",
           "zerolinewidth": 2
          },
          "yaxis": {
           "automargin": true,
           "gridcolor": "white",
           "linecolor": "white",
           "ticks": "",
           "title": {
            "standoff": 15
           },
           "zerolinecolor": "white",
           "zerolinewidth": 2
          }
         }
        },
        "title": {
         "text": "City Path with Arrows and Distances"
        },
        "width": 900
       }
      }
     },
     "metadata": {},
     "output_type": "display_data"
    }
   ],
   "source": [
    "# Get latitudes and longitudes for the ordered array\n",
    "ordered_latitudes = cities.set_index('City').loc[visited]['latitude'].values\n",
    "ordered_longitudes = cities.set_index('City').loc[visited]['longitude'].values\n",
    "\n",
    "# Plot the cities using scatter_geo\n",
    "fig = px.scatter_geo(cities,\n",
    "                     lat='latitude',\n",
    "                     lon='longitude',\n",
    "                     text='City',\n",
    "                     title='City Path Map')\n",
    "\n",
    "# Add arrows and display distances between consecutive cities\n",
    "for i in range(len(visited) - 1):\n",
    "    fig.add_trace(go.Scattergeo(\n",
    "        locationmode='ISO-3',\n",
    "        lon=[ordered_longitudes[i], ordered_longitudes[i+1]],\n",
    "        lat=[ordered_latitudes[i], ordered_latitudes[i+1]],\n",
    "        mode='lines',\n",
    "        line=dict(width=2, color='blue'),\n",
    "        hoverinfo='text',\n",
    "        text=f\"Distance: {np.round(distancesTravelled[i],0)} km\",  # Add distance to hover text\n",
    "        name=f\"{visited[i]} to {visited[i+1]}\",  # Add custom legend text\n",
    "        showlegend=True  # Ensure the trace appears in the legend\n",
    "    ))\n",
    "\n",
    "# Customize the map layout\n",
    "fig.update_layout(\n",
    "    geo=dict(\n",
    "        scope='europe',  # Focus the map on Europe\n",
    "        showland=True, landcolor=\"lightgray\",\n",
    "        countrycolor=\"darkgray\"\n",
    "    ),\n",
    "    title=\"City Path with Arrows and Distances\",\n",
    "    height=600,  # Increase height\n",
    "    width=900    # Increase width\n",
    ")\n",
    "\n",
    "# Optionally, adjust text positions and marker sizes\n",
    "fig.update_traces(textposition='top center', marker=dict(size=10, color='blue'))\n",
    "\n",
    "fig.show()\n"
   ]
  },
  {
   "cell_type": "code",
   "execution_count": null,
   "metadata": {},
   "outputs": [],
   "source": []
  }
 ],
 "metadata": {
  "kernelspec": {
   "display_name": ".venv",
   "language": "python",
   "name": "python3"
  },
  "language_info": {
   "codemirror_mode": {
    "name": "ipython",
    "version": 3
   },
   "file_extension": ".py",
   "mimetype": "text/x-python",
   "name": "python",
   "nbconvert_exporter": "python",
   "pygments_lexer": "ipython3",
   "version": "3.12.4"
  }
 },
 "nbformat": 4,
 "nbformat_minor": 2
}
